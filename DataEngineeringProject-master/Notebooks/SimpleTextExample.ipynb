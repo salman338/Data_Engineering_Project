{
 "cells": [
  {
   "cell_type": "code",
   "execution_count": 1,
   "id": "insured-moisture",
   "metadata": {},
   "outputs": [],
   "source": [
    "from pyspark.sql import SparkSession\n",
    "import pyspark\n",
    "\n",
    "spark_session = SparkSession\\\n",
    "        .builder\\\n",
    "        .master(\"spark://192.168.2.184:7077\") \\\n",
    "        .appName(\"SimpleText\")\\\n",
    "        .config(\"spark.deploy.mode\",\"client\")\\\n",
    "        .getOrCreate()"
   ]
  },
  {
   "cell_type": "code",
   "execution_count": 2,
   "id": "amino-season",
   "metadata": {},
   "outputs": [],
   "source": [
    "spark_context = spark_session.sparkContext"
   ]
  },
  {
   "cell_type": "code",
   "execution_count": 3,
   "id": "descending-guarantee",
   "metadata": {},
   "outputs": [
    {
     "data": {
      "text/plain": [
       "['The Project Gutenberg EBook of The Outline of Science, Vol. 1 (of 4), by ',\n",
       " 'J. Arthur Thomson',\n",
       " '',\n",
       " 'This eBook is for the use of anyone anywhere at no cost and with',\n",
       " 'almost no restrictions whatsoever.  You may copy it, give it away or',\n",
       " 're-use it under the terms of the Project Gutenberg License included',\n",
       " 'with this eBook or online at www.gutenberg.org',\n",
       " '',\n",
       " '',\n",
       " 'Title: The Outline of Science, Vol. 1 (of 4)']"
      ]
     },
     "execution_count": 3,
     "metadata": {},
     "output_type": "execute_result"
    }
   ],
   "source": [
    "hdfs_file = spark_context.textFile(\"hdfs://192.168.2.184:9000/input/pg20417.txt\")\n",
    "\n",
    "hdfs_file.take(10)"
   ]
  },
  {
   "cell_type": "code",
   "execution_count": 10,
   "id": "proud-marble",
   "metadata": {},
   "outputs": [
    {
     "data": {
      "text/plain": [
       "<bound method SparkContext.getConf of <SparkContext master=yarn appName=SimpleTextExample2>>"
      ]
     },
     "execution_count": 10,
     "metadata": {},
     "output_type": "execute_result"
    }
   ],
   "source": [
    "spark_context.getConf"
   ]
  },
  {
   "cell_type": "code",
   "execution_count": 11,
   "id": "round-necklace",
   "metadata": {},
   "outputs": [
    {
     "data": {
      "text/plain": [
       "'yarn'"
      ]
     },
     "execution_count": 11,
     "metadata": {},
     "output_type": "execute_result"
    }
   ],
   "source": [
    "spark_context.master"
   ]
  },
  {
   "cell_type": "code",
   "execution_count": 6,
   "id": "ranging-maldives",
   "metadata": {},
   "outputs": [
    {
     "data": {
      "text/plain": [
       "12760"
      ]
     },
     "execution_count": 6,
     "metadata": {},
     "output_type": "execute_result"
    }
   ],
   "source": [
    "hdfs_file.count()"
   ]
  },
  {
   "cell_type": "code",
   "execution_count": null,
   "id": "fantastic-emission",
   "metadata": {},
   "outputs": [],
   "source": []
  }
 ],
 "metadata": {
  "kernelspec": {
   "display_name": "Python 3",
   "language": "python",
   "name": "python3"
  },
  "language_info": {
   "codemirror_mode": {
    "name": "ipython",
    "version": 3
   },
   "file_extension": ".py",
   "mimetype": "text/x-python",
   "name": "python",
   "nbconvert_exporter": "python",
   "pygments_lexer": "ipython3",
   "version": "3.8.5"
  }
 },
 "nbformat": 4,
 "nbformat_minor": 5
}
